{
 "cells": [
  {
   "cell_type": "markdown",
   "metadata": {},
   "source": [
    "http://www.bom.gov.au/climate/data/lists_by_element/alphaAUS_139.txt"
   ]
  },
  {
   "cell_type": "code",
   "execution_count": 1,
   "metadata": {},
   "outputs": [],
   "source": [
    "import pandas as pd \n",
    "rankings_colname = ['data', '1', '2', '3', '4', '5', '6', '7']\n",
    "data = pd.read_csv('./BOM-Station-Origin.csv', names=rankings_colname)\n",
    "data = data.dropna(axis=1, how='all')\n",
    "data = data.dropna(axis=0, how='all')\n",
    "\n",
    "head = data.loc[:2]\n",
    "databody = data.loc[4:]"
   ]
  },
  {
   "cell_type": "code",
   "execution_count": 2,
   "metadata": {},
   "outputs": [
    {
     "data": {
      "text/plain": [
       "['Site', 'Name', 'Lat', 'Lon', 'Start', 'End', 'Years', '%', 'AWS']"
      ]
     },
     "execution_count": 2,
     "metadata": {},
     "output_type": "execute_result"
    }
   ],
   "source": [
    "rankings_colname = head.data[2].split()\n",
    "rankings_colname"
   ]
  },
  {
   "cell_type": "code",
   "execution_count": 3,
   "metadata": {},
   "outputs": [],
   "source": [
    "def abbbbb(x):\n",
    "    stationinfo = x.data[:49]\n",
    "    locinfo = x.data[49:]\n",
    "    Site = stationinfo.split()[0]\n",
    "    Name = ' '.join(stationinfo.split()[1:])\n",
    "    # print(stationId)\n",
    "    # print(stationName)\n",
    "    # print(locinfo[:10], locinfo[10:19], locinfo[19:27], locinfo[28:36])\n",
    "    Lat = locinfo[:10]\n",
    "    Lon = locinfo[10:19]\n",
    "    Start = locinfo[19:27]\n",
    "    End = locinfo[28:36]\n",
    "    Years = locinfo[36:].split()[0]\n",
    "    perc = locinfo[36:].split()[1]\n",
    "    \n",
    "    try:\n",
    "        AWS = locinfo[36:].split()[2]\n",
    "    except:\n",
    "        AWS = 'None'\n",
    "        print(x.data)\n",
    "    d = {'Site': Site, 'Name': Name, 'Lat': Lat, 'Lon': Lon, 'Start':Start, 'End':End, 'Years':Years, '%':perc, 'AWS':AWS}\n",
    "    return pd.Series(data=d, index=rankings_colname)\n",
    "    "
   ]
  },
  {
   "cell_type": "code",
   "execution_count": 4,
   "metadata": {},
   "outputs": [
    {
     "name": "stdout",
     "output_type": "stream",
     "text": [
      "  10710 BEAUFORT PLAINS                          -34.3817  118.8233 Jan 1961 Dec 1973   13.0  100    \n",
      "  94275 CLIFTON BEACH (CAPE DESLACS)             -42.9677  147.5342 Jun 2022 Mar 2024    1.8  100    \n",
      "  10246 COORINGA                                 -31.6000  116.4697 Apr 1891 Nov 1897    5.6   84    \n",
      "  12197 DANIEL ROAD                              -32.9833  120.2500 Apr 1963 Apr 1968    1.7   33    \n",
      "  35027 EMERALD POST OFFICE                      -23.5267  148.1617 Jan 1883 Jun 1992  109.5  100    \n",
      "   9949 FERRARIS FARM                            -33.4072  116.6242 Jan 1972 May 1986   12.8   89    \n",
      "  70350 GINNINDERRA (CHARNWOOD (ACT))            -35.2063  149.0113 Jul 2013 Mar 2024   10.3   95    \n",
      "  94227 GLENORCHY (MURRAYFIELD)                  -42.8442  147.2667 Jul 1898 Aug 1950   52.2  100    \n",
      "  12192 HYDEN 1                                  -32.2333  120.4000 Jan 1963 Mar 1966    0.6   18    \n",
      "  12193 HYDEN 2                                  -32.2167  120.5000 Jan 1963 Mar 1966    0.6   18    \n",
      "  12194 HYDEN 3                                  -32.3200  120.0517 Jan 1963 Oct 1966    0.7   17    \n",
      "  12196 LAKE KING 5                              -32.8000  120.7167 Apr 1963 Apr 1968    1.7   33    \n",
      "  17136 LEIGH CREEK (MAYNARDS WELL)              -30.6024  138.6888 Dec 2005 Aug 2011    5.2   90    \n",
      "  17137 LEIGH CREEK (NORTH MOOLOOLOO)            -30.6245  138.5271 Nov 2006 Aug 2011    4.5   93    \n",
      "  17138 LEIGH CREEK (PFITZNERS WELL)             -30.6881  138.5665 Nov 2006 Aug 2011    4.5   93    \n",
      "  85203 LICOLA RWC                               -37.6303  146.6211 Aug 1906 Sep 2002   52.7   55    \n",
      "   5074 MARANDOO                                 -22.6344  118.1119 Jan 1974 Sep 1997   23.1   97    \n",
      "   5087 MILLSTREAM CWS PUMPING STATION           -21.5833  117.0500 Jun 1972 Oct 1985    7.0   52    \n",
      "  43102 MITCHELL TM                              -26.4900  147.9792 Nov 2000 Mar 2024   23.2   99    \n",
      "  53000 MOREE AUTOSONDE                          -29.4917  149.8461 Jul 2000 Oct 2001    1.3  100    \n",
      "   5059 MOUNT LIONEL AIRSTRIP                    -22.6087  117.6313 Jan 1984 Dec 1986    2.0   67    \n",
      "  12195 NINETY MILE TANK 4                       -32.8000  120.7167 Mar 1963 Apr 1968    1.8   34    \n",
      "  10860 NORTHUMBERLAND                           -33.8667  116.8500 May 1907 Jul 1908    1.3  100    \n",
      "  12190 PETER'S SOAK                             -33.1500  120.5833 Apr 1964 Mar 1968    0.7   17    \n",
      "   4101 R 1 BOREHOLE                             -20.3167  119.3333 Jan 1973 Nov 1983    5.9   54    \n",
      "  80085 SILESIAN DOWNS                           -36.0000  144.0000 Jan 1885 Jun 1914   29.5  100    \n",
      "  40820 SOMERSET DAM TM                          -27.1169  152.5550 Feb 2013 Mar 2024    4.9   44    \n",
      "  10907 THORNTON PARK                            -32.4842  116.7042 Jan 1972 Jul 1985   10.4   77    \n",
      "  66180 TURRAMURRA (PIBRAC)                      -33.7000  151.1000 Jan 1891 Aug 1918   24.0   87    \n",
      "  76078 WALPEUP AREA GAUGE                       -35.1000  142.0000 Mar 1952 Apr 1959    6.1   85    \n",
      "  47100 WENTWORTH LOCK 10 (MURRAY RIVER)         -34.1117  141.9033 Dec 2001 May 2013    0.3    3    \n",
      "  60134 WILSONS RIVER (TELEGRAPH POINT PWD CLOSE -31.3333  152.8000 Dec 2000 Mar 2002    1.3  100    \n",
      "   9943 WORSLEY                                  -33.3167  116.0500 May 1972 Apr 1986   12.4   89    \n",
      "  63276 WYANGALA DAM W/L                         -33.9700  148.9533 Dec 2000 Apr 2002    1.4  100    \n",
      "  68082 YALWAL                                   -34.9325  150.3867 Mar 1903 Apr 1984   45.1   56    \n",
      "   9944 YERRITUP CREEK STN                       -33.7167  121.0833 Jan 1968 Feb 1983   15.2  100    \n"
     ]
    }
   ],
   "source": [
    "data = databody.apply(lambda x: abbbbb(x), axis = 1)"
   ]
  },
  {
   "cell_type": "code",
   "execution_count": 5,
   "metadata": {},
   "outputs": [],
   "source": [
    "data.to_json('./BOM-Station.json')"
   ]
  },
  {
   "cell_type": "code",
   "execution_count": 6,
   "metadata": {},
   "outputs": [
    {
     "data": {
      "text/html": [
       "<div>\n",
       "<style scoped>\n",
       "    .dataframe tbody tr th:only-of-type {\n",
       "        vertical-align: middle;\n",
       "    }\n",
       "\n",
       "    .dataframe tbody tr th {\n",
       "        vertical-align: top;\n",
       "    }\n",
       "\n",
       "    .dataframe thead th {\n",
       "        text-align: right;\n",
       "    }\n",
       "</style>\n",
       "<table border=\"1\" class=\"dataframe\">\n",
       "  <thead>\n",
       "    <tr style=\"text-align: right;\">\n",
       "      <th></th>\n",
       "      <th>Site</th>\n",
       "      <th>Name</th>\n",
       "      <th>Lat</th>\n",
       "      <th>Lon</th>\n",
       "      <th>Start</th>\n",
       "      <th>End</th>\n",
       "      <th>Years</th>\n",
       "      <th>%</th>\n",
       "      <th>AWS</th>\n",
       "    </tr>\n",
       "  </thead>\n",
       "  <tbody>\n",
       "    <tr>\n",
       "      <th>4</th>\n",
       "      <td>41497</td>\n",
       "      <td>AAC DALBY CAMPUS</td>\n",
       "      <td>-27.1494</td>\n",
       "      <td>151.2894</td>\n",
       "      <td>Aug 1985</td>\n",
       "      <td>Sep 2012</td>\n",
       "      <td>26.8</td>\n",
       "      <td>98</td>\n",
       "      <td>N</td>\n",
       "    </tr>\n",
       "    <tr>\n",
       "      <th>5</th>\n",
       "      <td>33259</td>\n",
       "      <td>ABBOT POINT BULKCOAL</td>\n",
       "      <td>-19.8833</td>\n",
       "      <td>148.0750</td>\n",
       "      <td>Jan 1991</td>\n",
       "      <td>Jun 1991</td>\n",
       "      <td>0.5</td>\n",
       "      <td>100</td>\n",
       "      <td>N</td>\n",
       "    </tr>\n",
       "    <tr>\n",
       "      <th>6</th>\n",
       "      <td>67114</td>\n",
       "      <td>ABBOTSBURY (FAIRFIELD (CITY FARM))</td>\n",
       "      <td>-33.8667</td>\n",
       "      <td>150.8611</td>\n",
       "      <td>Dec 2000</td>\n",
       "      <td>Mar 2024</td>\n",
       "      <td>22.9</td>\n",
       "      <td>98</td>\n",
       "      <td>N</td>\n",
       "    </tr>\n",
       "    <tr>\n",
       "      <th>7</th>\n",
       "      <td>40000</td>\n",
       "      <td>ABBOTSFORD</td>\n",
       "      <td>-27.9500</td>\n",
       "      <td>153.1000</td>\n",
       "      <td>Oct 1909</td>\n",
       "      <td>Jul 1974</td>\n",
       "      <td>64.4</td>\n",
       "      <td>99</td>\n",
       "      <td>N</td>\n",
       "    </tr>\n",
       "    <tr>\n",
       "      <th>8</th>\n",
       "      <td>86307</td>\n",
       "      <td>ABBOTSFORD</td>\n",
       "      <td>-37.8000</td>\n",
       "      <td>145.0000</td>\n",
       "      <td>May 1972</td>\n",
       "      <td>Sep 1972</td>\n",
       "      <td>0.4</td>\n",
       "      <td>99</td>\n",
       "      <td>N</td>\n",
       "    </tr>\n",
       "  </tbody>\n",
       "</table>\n",
       "</div>"
      ],
      "text/plain": [
       "    Site                                Name         Lat        Lon     Start  \\\n",
       "4  41497                    AAC DALBY CAMPUS  -27.1494    151.2894   Aug 1985   \n",
       "5  33259                ABBOT POINT BULKCOAL  -19.8833    148.0750   Jan 1991   \n",
       "6  67114  ABBOTSBURY (FAIRFIELD (CITY FARM))  -33.8667    150.8611   Dec 2000   \n",
       "7  40000                          ABBOTSFORD  -27.9500    153.1000   Oct 1909   \n",
       "8  86307                          ABBOTSFORD  -37.8000    145.0000   May 1972   \n",
       "\n",
       "        End Years    % AWS  \n",
       "4  Sep 2012  26.8   98   N  \n",
       "5  Jun 1991   0.5  100   N  \n",
       "6  Mar 2024  22.9   98   N  \n",
       "7  Jul 1974  64.4   99   N  \n",
       "8  Sep 1972   0.4   99   N  "
      ]
     },
     "execution_count": 6,
     "metadata": {},
     "output_type": "execute_result"
    }
   ],
   "source": [
    "data.head()"
   ]
  },
  {
   "cell_type": "code",
   "execution_count": 6,
   "metadata": {},
   "outputs": [
    {
     "name": "stdout",
     "output_type": "stream",
     "text": [
      "处理完成并保存\n"
     ]
    }
   ],
   "source": [
    "import geopandas as gpd\n",
    "import json\n",
    "from shapely.geometry import Point\n",
    "\n",
    "#replace it with proper path\n",
    "file_path = \"C:/Users/zheyu/COMP90024_2024_ASMT2_Group12/data/SA2-Map/SA2_2021_AUST_GDA2020.shp\"\n",
    "sa2_gdf = gpd.read_file(file_path)\n",
    "sa2_gdf = sa2_gdf.to_crs(epsg=4326)\n",
    "\n",
    "with open('BOM.json', 'r') as json_file:\n",
    "    data = json.load(json_file)\n",
    "\n",
    "#GeoDataFrame\n",
    "records = []\n",
    "for entry in data:\n",
    "    lat = float(entry['Location']['lat'])\n",
    "    lon = float(entry['Location']['lon'])\n",
    "    point = Point(lon, lat)\n",
    "    record = {\n",
    "        'Site': entry['Site'],\n",
    "        'Name': entry['Name'],\n",
    "        'Start': entry['Start'],\n",
    "        'End': entry['End'],\n",
    "        'Years': entry['Years'],\n",
    "        '%': entry['%'],\n",
    "        'AWS': entry['AWS'],\n",
    "        'Location': entry['Location'],\n",
    "        'geometry': point\n",
    "    }\n",
    "    records.append(record)\n",
    "\n",
    "gdf = gpd.GeoDataFrame(records, geometry='geometry', crs=\"EPSG:4326\")\n",
    "gdf_projected = gdf.to_crs(epsg=3857)\n",
    "sa2_gdf_projected = sa2_gdf.to_crs(epsg=3857)\n",
    "gdf_with_sa2 = gpd.sjoin_nearest(gdf_projected, sa2_gdf_projected, how='left', distance_col='distance')\n",
    "#state\n",
    "gdf_with_sa2['state'] = gdf_with_sa2['STE_NAME21'] \n",
    "gdf_with_sa2 = gdf_with_sa2.to_crs(epsg=4326)\n",
    "#NaN for null\n",
    "required_columns = ['Site', 'Name', 'Start', 'End', 'Years', '%', 'AWS', 'Location', 'SA2_NAME21', 'state']\n",
    "gdf_with_sa2 = gdf_with_sa2.reindex(columns=required_columns)\n",
    "output_data = gdf_with_sa2.to_dict(orient='records')\n",
    "\n",
    "with open('suburb_centre_bom.json', 'w') as json_output_file:\n",
    "    json.dump(output_data, json_output_file, indent=2)\n",
    "\n",
    "print(\"save successfully\")\n"
   ]
  },
  {
   "cell_type": "code",
   "execution_count": null,
   "metadata": {},
   "outputs": [],
   "source": []
  }
 ],
 "metadata": {
  "kernelspec": {
   "display_name": "Python 3 (ipykernel)",
   "language": "python",
   "name": "python3"
  },
  "language_info": {
   "codemirror_mode": {
    "name": "ipython",
    "version": 3
   },
   "file_extension": ".py",
   "mimetype": "text/x-python",
   "name": "python",
   "nbconvert_exporter": "python",
   "pygments_lexer": "ipython3",
   "version": "3.12.2"
  }
 },
 "nbformat": 4,
 "nbformat_minor": 4
}
